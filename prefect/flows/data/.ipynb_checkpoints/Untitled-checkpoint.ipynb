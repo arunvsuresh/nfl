{
 "cells": [
  {
   "cell_type": "code",
   "execution_count": 19,
   "id": "7a47b293",
   "metadata": {},
   "outputs": [],
   "source": [
    "import pandas as pd"
   ]
  },
  {
   "cell_type": "code",
   "execution_count": 20,
   "id": "c739900f",
   "metadata": {},
   "outputs": [],
   "source": [
    "pbp = pd.read_parquet('pbp_2019.parquet')"
   ]
  },
  {
   "cell_type": "code",
   "execution_count": 21,
   "id": "a54bb549",
   "metadata": {},
   "outputs": [
    {
     "data": {
      "text/plain": [
       "18"
      ]
     },
     "execution_count": 21,
     "metadata": {},
     "output_type": "execute_result"
    }
   ],
   "source": [
    "len(pbp.columns)"
   ]
  },
  {
   "cell_type": "code",
   "execution_count": 22,
   "id": "87daa253",
   "metadata": {},
   "outputs": [],
   "source": [
    "pbp_gcs = pd.read_parquet('data_pbp_2019.parquet')"
   ]
  },
  {
   "cell_type": "code",
   "execution_count": 23,
   "id": "2d729386",
   "metadata": {},
   "outputs": [
    {
     "data": {
      "text/plain": [
       "Index(['game_date', 'game_id', 'season', 'week', 'posteam', 'passer_id',\n",
       "       'passer', 'qb_hit', 'pass_length', 'pass_location', 'passing_yards',\n",
       "       'pass_touchdown', 'interception', 'sack', 'pass_attempt',\n",
       "       'complete_pass', 'epa', 'success'],\n",
       "      dtype='object')"
      ]
     },
     "execution_count": 23,
     "metadata": {},
     "output_type": "execute_result"
    }
   ],
   "source": [
    "pbp_gcs.columns"
   ]
  },
  {
   "cell_type": "code",
   "execution_count": 24,
   "id": "db93800d",
   "metadata": {},
   "outputs": [
    {
     "data": {
      "text/plain": [
       "dtype('<M8[ns]')"
      ]
     },
     "execution_count": 24,
     "metadata": {},
     "output_type": "execute_result"
    }
   ],
   "source": [
    "pbp_gcs['game_date'].dtype"
   ]
  },
  {
   "cell_type": "code",
   "execution_count": 25,
   "id": "6047c308",
   "metadata": {},
   "outputs": [
    {
     "data": {
      "text/plain": [
       "game_date         datetime64[ns]\n",
       "game_id                   object\n",
       "season                     int32\n",
       "week                       int32\n",
       "posteam                   object\n",
       "passer_id                 object\n",
       "passer                    object\n",
       "qb_hit                   float64\n",
       "pass_length               object\n",
       "pass_location             object\n",
       "passing_yards            float64\n",
       "pass_touchdown           float64\n",
       "interception             float64\n",
       "sack                     float64\n",
       "pass_attempt             float64\n",
       "complete_pass            float64\n",
       "epa                      float64\n",
       "success                  float64\n",
       "dtype: object"
      ]
     },
     "execution_count": 25,
     "metadata": {},
     "output_type": "execute_result"
    }
   ],
   "source": [
    "pbp_gcs.dtypes"
   ]
  },
  {
   "cell_type": "code",
   "execution_count": null,
   "id": "fa40a31e",
   "metadata": {},
   "outputs": [],
   "source": []
  }
 ],
 "metadata": {
  "kernelspec": {
   "display_name": "Python 3 (ipykernel)",
   "language": "python",
   "name": "python3"
  },
  "language_info": {
   "codemirror_mode": {
    "name": "ipython",
    "version": 3
   },
   "file_extension": ".py",
   "mimetype": "text/x-python",
   "name": "python",
   "nbconvert_exporter": "python",
   "pygments_lexer": "ipython3",
   "version": "3.11.3"
  }
 },
 "nbformat": 4,
 "nbformat_minor": 5
}
