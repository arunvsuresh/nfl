{
 "cells": [
  {
   "cell_type": "code",
   "execution_count": 1,
   "id": "7a47b293",
   "metadata": {},
   "outputs": [],
   "source": [
    "import pandas as pd"
   ]
  },
  {
   "cell_type": "code",
   "execution_count": 2,
   "id": "c739900f",
   "metadata": {},
   "outputs": [],
   "source": [
    "pbp = pd.read_parquet('pbp_2019.parquet')"
   ]
  },
  {
   "cell_type": "code",
   "execution_count": 3,
   "id": "a54bb549",
   "metadata": {},
   "outputs": [
    {
     "data": {
      "text/plain": [
       "18"
      ]
     },
     "execution_count": 3,
     "metadata": {},
     "output_type": "execute_result"
    }
   ],
   "source": [
    "len(pbp.columns)"
   ]
  },
  {
   "cell_type": "code",
   "execution_count": 4,
   "id": "fa40a31e",
   "metadata": {},
   "outputs": [],
   "source": [
    "# pbp.game_date.unique()"
   ]
  },
  {
   "cell_type": "code",
   "execution_count": 5,
   "id": "83c0d45e",
   "metadata": {},
   "outputs": [],
   "source": [
    "pbp = pbp.to_csv('pbp_2019.csv')"
   ]
  },
  {
   "cell_type": "code",
   "execution_count": null,
   "id": "50644bd2",
   "metadata": {},
   "outputs": [],
   "source": []
  }
 ],
 "metadata": {
  "kernelspec": {
   "display_name": "Python 3 (ipykernel)",
   "language": "python",
   "name": "python3"
  },
  "language_info": {
   "codemirror_mode": {
    "name": "ipython",
    "version": 3
   },
   "file_extension": ".py",
   "mimetype": "text/x-python",
   "name": "python",
   "nbconvert_exporter": "python",
   "pygments_lexer": "ipython3",
   "version": "3.11.3"
  }
 },
 "nbformat": 4,
 "nbformat_minor": 5
}
